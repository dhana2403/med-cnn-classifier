{
 "cells": [
  {
   "cell_type": "code",
   "execution_count": 9,
   "metadata": {},
   "outputs": [
    {
     "name": "stdout",
     "output_type": "stream",
     "text": [
      "HAM10000 dataset is present.\n"
     ]
    }
   ],
   "source": [
    "import os \n",
    "\n",
    "def download_ham10000(data_dir=\"ham10000/data\"):\n",
    "    metadata_path = os.path.join(data_dir, \"HAM10000_metadata.csv\")\n",
    "    images_path1 = os.path.join(data_dir, \"HAM10000_images_part_1\")\n",
    "    images_path2 = os.path.join(data_dir, \"HAM10000_images_part_2\")\n",
    "\n",
    "    if not os.path.exists(metadata_path) and os.path.exists(images_path1) and os.path.exists(images_path2):\n",
    "        print(\"Please download the HAM10000 dataset manually from Kaggle:\")\n",
    "        print(\"https://www.kaggle.com/datasets/kmader/skin-cancer-mnist-ham10000\")\n",
    "        print(f\"Then place the files and folders in: {os.path.abspath(data_dir)}\")\n",
    "    else: \n",
    "        print(\"HAM10000 dataset is present.\")\n",
    "\n",
    "if __name__ == '__main__':\n",
    "    download_ham10000()\n"
   ]
  }
 ],
 "metadata": {
  "kernelspec": {
   "display_name": "r-tensorflow",
   "language": "python",
   "name": "python3"
  },
  "language_info": {
   "codemirror_mode": {
    "name": "ipython",
    "version": 3
   },
   "file_extension": ".py",
   "mimetype": "text/x-python",
   "name": "python",
   "nbconvert_exporter": "python",
   "pygments_lexer": "ipython3",
   "version": "3.12.5"
  }
 },
 "nbformat": 4,
 "nbformat_minor": 2
}
